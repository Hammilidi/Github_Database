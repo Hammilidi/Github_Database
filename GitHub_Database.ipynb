{
 "cells": [
  {
   "cell_type": "markdown",
   "id": "5f6fcc68",
   "metadata": {},
   "source": [
    "# Fusion de fichiers"
   ]
  },
  {
   "cell_type": "code",
   "execution_count": 29,
   "id": "4e4a8b93",
   "metadata": {},
   "outputs": [
    {
     "data": {
      "text/html": [
       "<div>\n",
       "<style scoped>\n",
       "    .dataframe tbody tr th:only-of-type {\n",
       "        vertical-align: middle;\n",
       "    }\n",
       "\n",
       "    .dataframe tbody tr th {\n",
       "        vertical-align: top;\n",
       "    }\n",
       "\n",
       "    .dataframe thead th {\n",
       "        text-align: right;\n",
       "    }\n",
       "</style>\n",
       "<table border=\"1\" class=\"dataframe\">\n",
       "  <thead>\n",
       "    <tr style=\"text-align: right;\">\n",
       "      <th></th>\n",
       "      <th>name</th>\n",
       "      <th>full_name</th>\n",
       "      <th>url</th>\n",
       "      <th>description</th>\n",
       "      <th>stars</th>\n",
       "      <th>created_at</th>\n",
       "      <th>language</th>\n",
       "      <th>forks</th>\n",
       "      <th>updated_at</th>\n",
       "      <th>topics</th>\n",
       "      <th>license</th>\n",
       "      <th>type_of_owner</th>\n",
       "      <th>contributors</th>\n",
       "    </tr>\n",
       "  </thead>\n",
       "  <tbody>\n",
       "    <tr>\n",
       "      <th>0</th>\n",
       "      <td>HyperDbg</td>\n",
       "      <td>HyperDbg/HyperDbg</td>\n",
       "      <td>https://github.com/HyperDbg/HyperDbg</td>\n",
       "      <td>State-of-the-art native debugging tool</td>\n",
       "      <td>2173</td>\n",
       "      <td>2020-01-01 12:34:32+00:00</td>\n",
       "      <td>C</td>\n",
       "      <td>317</td>\n",
       "      <td>2023-06-23 10:17:49+00:00</td>\n",
       "      <td>['debug', 'debugger', 'ept', 'hook', 'hyperdbg...</td>\n",
       "      <td>{'key': 'gpl-3.0', 'name': 'GNU General Public...</td>\n",
       "      <td>Organization</td>\n",
       "      <td>{'src_repository': 'HyperDbg/HyperDbg', 'contr...</td>\n",
       "    </tr>\n",
       "    <tr>\n",
       "      <th>1</th>\n",
       "      <td>octo4a</td>\n",
       "      <td>feelfreelinux/octo4a</td>\n",
       "      <td>https://github.com/feelfreelinux/octo4a</td>\n",
       "      <td>Use your old Android device as an OctoPrint se...</td>\n",
       "      <td>1265</td>\n",
       "      <td>2020-01-01 17:00:11+00:00</td>\n",
       "      <td>Kotlin</td>\n",
       "      <td>123</td>\n",
       "      <td>2023-06-21 22:24:04+00:00</td>\n",
       "      <td>['3d-printing', 'android', 'octoprint']</td>\n",
       "      <td>{'key': 'agpl-3.0', 'name': 'GNU Affero Genera...</td>\n",
       "      <td>User</td>\n",
       "      <td>{'src_repository': 'feelfreelinux/octo4a', 'co...</td>\n",
       "    </tr>\n",
       "    <tr>\n",
       "      <th>2</th>\n",
       "      <td>VIMKiller</td>\n",
       "      <td>caseykneale/VIMKiller</td>\n",
       "      <td>https://github.com/caseykneale/VIMKiller</td>\n",
       "      <td>Exiting VIM is hard; sometimes we need to take...</td>\n",
       "      <td>1159</td>\n",
       "      <td>2020-01-01 01:31:29+00:00</td>\n",
       "      <td>Julia</td>\n",
       "      <td>13</td>\n",
       "      <td>2023-06-21 16:37:23+00:00</td>\n",
       "      <td>[]</td>\n",
       "      <td>{'key': 'mit', 'name': 'MIT License', 'spdx_id...</td>\n",
       "      <td>User</td>\n",
       "      <td>{'src_repository': 'caseykneale/VIMKiller', 'c...</td>\n",
       "    </tr>\n",
       "    <tr>\n",
       "      <th>3</th>\n",
       "      <td>OpenSeeFace</td>\n",
       "      <td>emilianavt/OpenSeeFace</td>\n",
       "      <td>https://github.com/emilianavt/OpenSeeFace</td>\n",
       "      <td>Robust realtime face and facial landmark track...</td>\n",
       "      <td>1105</td>\n",
       "      <td>2020-01-01 12:49:35+00:00</td>\n",
       "      <td>Python</td>\n",
       "      <td>134</td>\n",
       "      <td>2023-06-23 11:37:45+00:00</td>\n",
       "      <td>['cpu', 'csharp', 'depth-estimation', 'detecti...</td>\n",
       "      <td>{'key': 'bsd-2-clause', 'name': 'BSD 2-Clause ...</td>\n",
       "      <td>User</td>\n",
       "      <td>{'src_repository': 'emilianavt/OpenSeeFace', '...</td>\n",
       "    </tr>\n",
       "    <tr>\n",
       "      <th>4</th>\n",
       "      <td>react-typescript-web-extension-starter</td>\n",
       "      <td>aeksco/react-typescript-web-extension-starter</td>\n",
       "      <td>https://github.com/aeksco/react-typescript-web...</td>\n",
       "      <td>:desktop_computer: Web Extension starter kit b...</td>\n",
       "      <td>805</td>\n",
       "      <td>2020-01-01 01:14:35+00:00</td>\n",
       "      <td>JavaScript</td>\n",
       "      <td>73</td>\n",
       "      <td>2023-06-18 12:59:14+00:00</td>\n",
       "      <td>['brave', 'chrome-extension', 'eslint', 'exten...</td>\n",
       "      <td>{'key': 'mit', 'name': 'MIT License', 'spdx_id...</td>\n",
       "      <td>User</td>\n",
       "      <td>{'src_repository': 'aeksco/react-typescript-we...</td>\n",
       "    </tr>\n",
       "  </tbody>\n",
       "</table>\n",
       "</div>"
      ],
      "text/plain": [
       "                                     name  \\\n",
       "0                                HyperDbg   \n",
       "1                                  octo4a   \n",
       "2                               VIMKiller   \n",
       "3                             OpenSeeFace   \n",
       "4  react-typescript-web-extension-starter   \n",
       "\n",
       "                                       full_name  \\\n",
       "0                              HyperDbg/HyperDbg   \n",
       "1                           feelfreelinux/octo4a   \n",
       "2                          caseykneale/VIMKiller   \n",
       "3                         emilianavt/OpenSeeFace   \n",
       "4  aeksco/react-typescript-web-extension-starter   \n",
       "\n",
       "                                                 url  \\\n",
       "0               https://github.com/HyperDbg/HyperDbg   \n",
       "1            https://github.com/feelfreelinux/octo4a   \n",
       "2           https://github.com/caseykneale/VIMKiller   \n",
       "3          https://github.com/emilianavt/OpenSeeFace   \n",
       "4  https://github.com/aeksco/react-typescript-web...   \n",
       "\n",
       "                                         description  stars  \\\n",
       "0             State-of-the-art native debugging tool   2173   \n",
       "1  Use your old Android device as an OctoPrint se...   1265   \n",
       "2  Exiting VIM is hard; sometimes we need to take...   1159   \n",
       "3  Robust realtime face and facial landmark track...   1105   \n",
       "4  :desktop_computer: Web Extension starter kit b...    805   \n",
       "\n",
       "                  created_at    language  forks                 updated_at  \\\n",
       "0  2020-01-01 12:34:32+00:00           C    317  2023-06-23 10:17:49+00:00   \n",
       "1  2020-01-01 17:00:11+00:00      Kotlin    123  2023-06-21 22:24:04+00:00   \n",
       "2  2020-01-01 01:31:29+00:00       Julia     13  2023-06-21 16:37:23+00:00   \n",
       "3  2020-01-01 12:49:35+00:00      Python    134  2023-06-23 11:37:45+00:00   \n",
       "4  2020-01-01 01:14:35+00:00  JavaScript     73  2023-06-18 12:59:14+00:00   \n",
       "\n",
       "                                              topics  \\\n",
       "0  ['debug', 'debugger', 'ept', 'hook', 'hyperdbg...   \n",
       "1            ['3d-printing', 'android', 'octoprint']   \n",
       "2                                                 []   \n",
       "3  ['cpu', 'csharp', 'depth-estimation', 'detecti...   \n",
       "4  ['brave', 'chrome-extension', 'eslint', 'exten...   \n",
       "\n",
       "                                             license type_of_owner  \\\n",
       "0  {'key': 'gpl-3.0', 'name': 'GNU General Public...  Organization   \n",
       "1  {'key': 'agpl-3.0', 'name': 'GNU Affero Genera...          User   \n",
       "2  {'key': 'mit', 'name': 'MIT License', 'spdx_id...          User   \n",
       "3  {'key': 'bsd-2-clause', 'name': 'BSD 2-Clause ...          User   \n",
       "4  {'key': 'mit', 'name': 'MIT License', 'spdx_id...          User   \n",
       "\n",
       "                                        contributors  \n",
       "0  {'src_repository': 'HyperDbg/HyperDbg', 'contr...  \n",
       "1  {'src_repository': 'feelfreelinux/octo4a', 'co...  \n",
       "2  {'src_repository': 'caseykneale/VIMKiller', 'c...  \n",
       "3  {'src_repository': 'emilianavt/OpenSeeFace', '...  \n",
       "4  {'src_repository': 'aeksco/react-typescript-we...  "
      ]
     },
     "execution_count": 29,
     "metadata": {},
     "output_type": "execute_result"
    }
   ],
   "source": [
    "import pandas as pd\n",
    "\n",
    "data_without_contrib = pd.read_csv(\"data_final.csv\")\n",
    "data_contrib = pd.read_csv(\"contributeurs.csv\", index_col=0)\n",
    "data = pd.merge(data_without_contrib, data_contrib, left_index=True, right_index=True)\n",
    "data.to_csv(\"data.csv\")\n",
    "data.head()"
   ]
  },
  {
   "cell_type": "markdown",
   "id": "78d4405a",
   "metadata": {},
   "source": [
    "# Modèle Conceptuel de Données (MCD)"
   ]
  },
  {
   "cell_type": "markdown",
   "id": "8fb91f70",
   "metadata": {},
   "source": [
    "Trouver les concepts associés et les associations inhérentes. Les concepts que nous avons trouvés sont:\n",
    "- Dépots\n",
    "- Contributeurs\n",
    "- Sujets\n",
    "- License"
   ]
  },
  {
   "cell_type": "markdown",
   "id": "6c47400b",
   "metadata": {},
   "source": [
    "Dépots\n",
    "- id_repo (clé primaire)\n",
    "- Nom\n",
    "- Etoiles\n",
    "- url\n",
    "- description\n",
    "- created_at\n",
    "- Forks\n",
    "- updated_at\n",
    "- type_of_owner\n",
    "\n",
    "\n",
    "Contributeurs\n",
    "- id_contrib (clé primaire)\n",
    "- contrib_nom\n",
    "\n",
    "\n",
    "Sujets\n",
    "- topic_id (clé primaire)\n",
    "- topic_name\n",
    "\n",
    "\n",
    "Licenses\n",
    "- license_id (clé primaire)\n",
    "- license_name"
   ]
  },
  {
   "cell_type": "markdown",
   "id": "582e0a13",
   "metadata": {},
   "source": [
    "# Modèle Logique des Données (MLD)"
   ]
  },
  {
   "cell_type": "markdown",
   "id": "79b2c169",
   "metadata": {},
   "source": [
    "Cette étape va consiter à définir le type de relation entre les différents concepts. Une chose est claire, la relation entre l'entité Depot est les autres est une relation many-to-many. Sur cette base, nous allons consytruire notre MLD."
   ]
  },
  {
   "cell_type": "markdown",
   "id": "bbb2bf84",
   "metadata": {},
   "source": [
    "DepotsLicenses\n",
    "- repo_id (clé étrangère référençant la table Depots)\n",
    "- license_id (clé étrangère référençant la table License)\n",
    "\n",
    "DepotsContributeurs\n",
    "- repo_id  (clé étrangère référençant la table Depots)\n",
    "- contrib_id (clé étrangère référençant la table Contributeurs)\n",
    "\n",
    "DepotsTopics\n",
    "- repo_id (clé étrangère référençant la table Depots)\n",
    "- topic_id (clé étrangère référençant la table Sujets)"
   ]
  },
  {
   "cell_type": "markdown",
   "id": "53a9ca87",
   "metadata": {},
   "source": [
    "Avec le,SGBDR PostgreSQL, nous avons générer l'ERD (le diagramme d'entité relation)"
   ]
  },
  {
   "attachments": {
    "GitHub_ERD-3.png": {
     "image/png": "[encoded data removed]"
    }
   },
   "cell_type": "markdown",
   "id": "0ed2bc99",
   "metadata": {},
   "source": [
    "![GitHub_ERD-3.png](attachment:GitHub_ERD-3.png)"
   ]
  },
  {
   "cell_type": "markdown",
   "id": "3c9fe3aa",
   "metadata": {},
   "source": [
    "# Modèle Physique de Données (MPD)"
   ]
  },
  {
   "cell_type": "markdown",
   "id": "aa5db000",
   "metadata": {},
   "source": [
    "Cette étape va consister à faire des scripts python pour gérer la base de données"
   ]
  },
  {
   "cell_type": "code",
   "execution_count": 25,
   "id": "1be1f558",
   "metadata": {},
   "outputs": [],
   "source": [
    "import pyodbc\n",
    "driver= '{ODBC Driver 17 for SQL Server}'\n",
    "\n",
    "connexion = pyodbc.connect(\n",
    "    Trusted_Connection='Yes',\n",
    "    Driver='{ODBC Driver 17 for SQL Server}',\n",
    "    Server='LAPTOP-L0N961TQ\\SQLEXPRESS',\n",
    "    Database='GitHub_Database'\n",
    ")"
   ]
  },
  {
   "cell_type": "code",
   "execution_count": 29,
   "id": "9617adef",
   "metadata": {},
   "outputs": [],
   "source": [
    "# curseur\n",
    "# cursor = connexion.cursor()"
   ]
  },
  {
   "cell_type": "markdown",
   "id": "9b313438",
   "metadata": {},
   "source": [
    "# Langage de Définition (LDD) (voir le fichier .sql associé)"
   ]
  },
  {
   "cell_type": "markdown",
   "id": "01ad9175",
   "metadata": {},
   "source": [
    "### Création des tables entités"
   ]
  },
  {
   "cell_type": "code",
   "execution_count": null,
   "id": "2a70366e",
   "metadata": {},
   "outputs": [],
   "source": [
    "# # Création de la table Depots\n",
    "# cursor.execute(\"CREATE TABLE Depots ( id_repo INTEGER PRIMARY KEY, nom NVARCHAR(255), etoiles INTEGER, url NVARCHAR(255), description NVARCHAR(MAX), created_at DATE, forks INTEGER, watchers INTEGER, updated_at DATE, type_of_owner NVARCHAR(255) );\")"
   ]
  },
  {
   "cell_type": "code",
   "execution_count": null,
   "id": "b0f94454",
   "metadata": {},
   "outputs": [],
   "source": [
    "# # Création de la table Contributeurs\n",
    "# cursor.execute(\"CREATE TABLE Contributeurs (id_contrib INT PRIMARY KEY,contrib_nom NVARCHAR(255));\")"
   ]
  },
  {
   "cell_type": "code",
   "execution_count": null,
   "id": "fe4acb6b",
   "metadata": {},
   "outputs": [],
   "source": [
    "# # Création de la table Topics\n",
    "# cursor.execute(\"CREATE TABLE Topics (topic_id INT PRIMARY KEY,topic_name NVARCHAR(255));\")"
   ]
  },
  {
   "cell_type": "code",
   "execution_count": null,
   "id": "11f3740a",
   "metadata": {},
   "outputs": [],
   "source": [
    "# # Création de la table Licenses\n",
    "# cursor.execute(\"CREATE TABLE Licenses (license_id INT PRIMARY KEY,license_name NVARCHAR(255));\")"
   ]
  },
  {
   "cell_type": "markdown",
   "id": "1a4f6ced",
   "metadata": {},
   "source": [
    "### Création des tables-relations"
   ]
  },
  {
   "cell_type": "code",
   "execution_count": null,
   "id": "673728ea",
   "metadata": {},
   "outputs": [],
   "source": [
    "# # Création de la table-relation Depot-Licenses\n",
    "# cursor.execute(\"CREATE TABLE DepotsLicenses (repo_id INT,license_id INT,FOREIGN KEY (repo_id) REFERENCES Depots(id_repo),FOREIGN KEY (license_id) REFERENCES Licenses(license_id));\")"
   ]
  },
  {
   "cell_type": "code",
   "execution_count": null,
   "id": "1c027487",
   "metadata": {},
   "outputs": [],
   "source": [
    "# # Création de la table-relation Depot-Contributeurs\n",
    "# cursor.execute(\"CREATE TABLE DepotsContributeurs (repo_id INT,contrib_id INT,FOREIGN KEY (repo_id) REFERENCES Depots(id_repo),FOREIGN KEY (contrib_id) REFERENCES Contributeurs(id_contrib)\n",
    "# );\")"
   ]
  },
  {
   "cell_type": "code",
   "execution_count": null,
   "id": "17ce8cfc",
   "metadata": {},
   "outputs": [],
   "source": [
    "# # Création de la table-relation Depot-Topics\n",
    "# cursor.execute(\"CREATE TABLE DepotsTopics (repo_id INT,topic_id INT,FOREIGN KEY (repo_id) REFERENCES Depots(id_repo),FOREIGN KEY (topic_id) REFERENCES Topics(topic_id));\")"
   ]
  },
  {
   "cell_type": "markdown",
   "id": "9f7c0235",
   "metadata": {},
   "source": [
    "# Langage de Manipultion de Données"
   ]
  },
  {
   "cell_type": "code",
   "execution_count": 21,
   "id": "86c6ca31",
   "metadata": {},
   "outputs": [
    {
     "data": {
      "text/html": [
       "<div>\n",
       "<style scoped>\n",
       "    .dataframe tbody tr th:only-of-type {\n",
       "        vertical-align: middle;\n",
       "    }\n",
       "\n",
       "    .dataframe tbody tr th {\n",
       "        vertical-align: top;\n",
       "    }\n",
       "\n",
       "    .dataframe thead th {\n",
       "        text-align: right;\n",
       "    }\n",
       "</style>\n",
       "<table border=\"1\" class=\"dataframe\">\n",
       "  <thead>\n",
       "    <tr style=\"text-align: right;\">\n",
       "      <th></th>\n",
       "      <th>name</th>\n",
       "      <th>full_name</th>\n",
       "      <th>url</th>\n",
       "      <th>description</th>\n",
       "      <th>stars</th>\n",
       "      <th>created_at</th>\n",
       "      <th>language</th>\n",
       "      <th>forks</th>\n",
       "      <th>updated_at</th>\n",
       "      <th>topics</th>\n",
       "      <th>license</th>\n",
       "      <th>type_of_owner</th>\n",
       "      <th>contributors</th>\n",
       "    </tr>\n",
       "  </thead>\n",
       "  <tbody>\n",
       "    <tr>\n",
       "      <th>0</th>\n",
       "      <td>HyperDbg</td>\n",
       "      <td>HyperDbg/HyperDbg</td>\n",
       "      <td>https://github.com/HyperDbg/HyperDbg</td>\n",
       "      <td>State-of-the-art native debugging tool</td>\n",
       "      <td>2173</td>\n",
       "      <td>2020-01-01 12:34:32+00:00</td>\n",
       "      <td>C</td>\n",
       "      <td>317</td>\n",
       "      <td>2023-06-23 10:17:49+00:00</td>\n",
       "      <td>['debug', 'debugger', 'ept', 'hook', 'hyperdbg...</td>\n",
       "      <td>{'key': 'gpl-3.0', 'name': 'GNU General Public...</td>\n",
       "      <td>Organization</td>\n",
       "      <td>{'src_repository': 'HyperDbg/HyperDbg', 'contr...</td>\n",
       "    </tr>\n",
       "    <tr>\n",
       "      <th>1</th>\n",
       "      <td>octo4a</td>\n",
       "      <td>feelfreelinux/octo4a</td>\n",
       "      <td>https://github.com/feelfreelinux/octo4a</td>\n",
       "      <td>Use your old Android device as an OctoPrint se...</td>\n",
       "      <td>1265</td>\n",
       "      <td>2020-01-01 17:00:11+00:00</td>\n",
       "      <td>Kotlin</td>\n",
       "      <td>123</td>\n",
       "      <td>2023-06-21 22:24:04+00:00</td>\n",
       "      <td>['3d-printing', 'android', 'octoprint']</td>\n",
       "      <td>{'key': 'agpl-3.0', 'name': 'GNU Affero Genera...</td>\n",
       "      <td>User</td>\n",
       "      <td>{'src_repository': 'feelfreelinux/octo4a', 'co...</td>\n",
       "    </tr>\n",
       "  </tbody>\n",
       "</table>\n",
       "</div>"
      ],
      "text/plain": [
       "       name             full_name                                      url  \\\n",
       "0  HyperDbg     HyperDbg/HyperDbg     https://github.com/HyperDbg/HyperDbg   \n",
       "1    octo4a  feelfreelinux/octo4a  https://github.com/feelfreelinux/octo4a   \n",
       "\n",
       "                                         description  stars  \\\n",
       "0             State-of-the-art native debugging tool   2173   \n",
       "1  Use your old Android device as an OctoPrint se...   1265   \n",
       "\n",
       "                  created_at language  forks                 updated_at  \\\n",
       "0  2020-01-01 12:34:32+00:00        C    317  2023-06-23 10:17:49+00:00   \n",
       "1  2020-01-01 17:00:11+00:00   Kotlin    123  2023-06-21 22:24:04+00:00   \n",
       "\n",
       "                                              topics  \\\n",
       "0  ['debug', 'debugger', 'ept', 'hook', 'hyperdbg...   \n",
       "1            ['3d-printing', 'android', 'octoprint']   \n",
       "\n",
       "                                             license type_of_owner  \\\n",
       "0  {'key': 'gpl-3.0', 'name': 'GNU General Public...  Organization   \n",
       "1  {'key': 'agpl-3.0', 'name': 'GNU Affero Genera...          User   \n",
       "\n",
       "                                        contributors  \n",
       "0  {'src_repository': 'HyperDbg/HyperDbg', 'contr...  \n",
       "1  {'src_repository': 'feelfreelinux/octo4a', 'co...  "
      ]
     },
     "execution_count": 21,
     "metadata": {},
     "output_type": "execute_result"
    }
   ],
   "source": [
    "data.head(2)"
   ]
  },
  {
   "cell_type": "code",
   "execution_count": 30,
   "id": "05765467",
   "metadata": {},
   "outputs": [
    {
     "ename": "UnicodeDecodeError",
     "evalue": "'charmap' codec can't decode byte 0x81 in position 4524: character maps to <undefined>",
     "output_type": "error",
     "traceback": [
      "\u001b[1;31m---------------------------------------------------------------------------\u001b[0m",
      "\u001b[1;31mUnicodeDecodeError\u001b[0m                        Traceback (most recent call last)",
      "Cell \u001b[1;32mIn[30], line 3\u001b[0m\n\u001b[0;32m      1\u001b[0m \u001b[38;5;28;01mwith\u001b[39;00m \u001b[38;5;28mopen\u001b[39m(\u001b[38;5;124m\"\u001b[39m\u001b[38;5;124mdata.csv\u001b[39m\u001b[38;5;124m\"\u001b[39m, \u001b[38;5;124m'\u001b[39m\u001b[38;5;124mr\u001b[39m\u001b[38;5;124m'\u001b[39m) \u001b[38;5;28;01mas\u001b[39;00m file:\n\u001b[0;32m      2\u001b[0m     \u001b[38;5;66;03m# Ignorer l'en-tête du fichier CSV s'il en existe un\u001b[39;00m\n\u001b[1;32m----> 3\u001b[0m     \u001b[38;5;28;43mnext\u001b[39;49m\u001b[43m(\u001b[49m\u001b[43mfile\u001b[49m\u001b[43m)\u001b[49m\n\u001b[0;32m      5\u001b[0m     \u001b[38;5;66;03m# Parcourir les lignes du fichier\u001b[39;00m\n\u001b[0;32m      6\u001b[0m     \u001b[38;5;28;01mfor\u001b[39;00m line \u001b[38;5;129;01min\u001b[39;00m file:\n\u001b[0;32m      7\u001b[0m         \u001b[38;5;66;03m# Séparer les valeurs des colonnes\u001b[39;00m\n",
      "File \u001b[1;32m~\\anaconda3\\lib\\encodings\\cp1252.py:23\u001b[0m, in \u001b[0;36mIncrementalDecoder.decode\u001b[1;34m(self, input, final)\u001b[0m\n\u001b[0;32m     22\u001b[0m \u001b[38;5;28;01mdef\u001b[39;00m \u001b[38;5;21mdecode\u001b[39m(\u001b[38;5;28mself\u001b[39m, \u001b[38;5;28minput\u001b[39m, final\u001b[38;5;241m=\u001b[39m\u001b[38;5;28;01mFalse\u001b[39;00m):\n\u001b[1;32m---> 23\u001b[0m     \u001b[38;5;28;01mreturn\u001b[39;00m \u001b[43mcodecs\u001b[49m\u001b[38;5;241;43m.\u001b[39;49m\u001b[43mcharmap_decode\u001b[49m\u001b[43m(\u001b[49m\u001b[38;5;28;43minput\u001b[39;49m\u001b[43m,\u001b[49m\u001b[38;5;28;43mself\u001b[39;49m\u001b[38;5;241;43m.\u001b[39;49m\u001b[43merrors\u001b[49m\u001b[43m,\u001b[49m\u001b[43mdecoding_table\u001b[49m\u001b[43m)\u001b[49m[\u001b[38;5;241m0\u001b[39m]\n",
      "\u001b[1;31mUnicodeDecodeError\u001b[0m: 'charmap' codec can't decode byte 0x81 in position 4524: character maps to <undefined>"
     ]
    }
   ],
   "source": [
    "with open(\"data.csv\", 'r') as file:\n",
    "    # Ignorer l'en-tête du fichier CSV s'il en existe un\n",
    "    next(file)\n",
    "    \n",
    "    # Parcourir les lignes du fichier\n",
    "    for line in file:\n",
    "        # Séparer les valeurs des colonnes\n",
    "        values = line.strip().split(',')\n",
    "        print(values[5])"
   ]
  },
  {
   "cell_type": "code",
   "execution_count": 31,
   "id": "aa8a9808",
   "metadata": {},
   "outputs": [
    {
     "ename": "NameError",
     "evalue": "name 'connection' is not defined",
     "output_type": "error",
     "traceback": [
      "\u001b[1;31m---------------------------------------------------------------------------\u001b[0m",
      "\u001b[1;31mNameError\u001b[0m                                 Traceback (most recent call last)",
      "Cell \u001b[1;32mIn[31], line 1\u001b[0m\n\u001b[1;32m----> 1\u001b[0m cursor \u001b[38;5;241m=\u001b[39m \u001b[43mconnection\u001b[49m\u001b[38;5;241m.\u001b[39mcursor()\n\u001b[0;32m      3\u001b[0m \u001b[38;5;66;03m# Chemin vers le fichier de données\u001b[39;00m\n\u001b[0;32m      4\u001b[0m data_file_path \u001b[38;5;241m=\u001b[39m \u001b[38;5;124m\"\u001b[39m\u001b[38;5;124mdata.csv\u001b[39m\u001b[38;5;124m\"\u001b[39m\n",
      "\u001b[1;31mNameError\u001b[0m: name 'connection' is not defined"
     ]
    }
   ],
   "source": [
    "cursor = connection.cursor()\n",
    "\n",
    "# Chemin vers le fichier de données\n",
    "data_file_path = \"data.csv\"\n",
    "\n",
    "# Lecture du fichier de données\n",
    "with open(data_file_path, 'r') as file:\n",
    "    # Ignorer l'en-tête du fichier CSV s'il en existe un\n",
    "    next(file)\n",
    "    \n",
    "    # Parcourir les lignes du fichier\n",
    "    for line in file:\n",
    "        # Séparer les valeurs des colonnes\n",
    "        values = line.strip().split(',')\n",
    "        \n",
    "        # Récupérer les valeurs des colonnes\n",
    "        id_repo = int(values[0])\n",
    "        nom = values[2]\n",
    "        etoiles = int(values[5])\n",
    "        url = values[3]\n",
    "        description = values[4]\n",
    "        created_at = values[6]\n",
    "        langage= values[7]\n",
    "        forks = int(values[8])\n",
    "        updated_at = values[10]\n",
    "        type_of_owner = values[13]\n",
    "        \n",
    "        # Requête d'insertion des données dans la table Depots\n",
    "        query = \"INSERT INTO Depots (id_repo, Nom, Etoiles, url, description, created_at, Forks, watchers, updated_at, type_of_owner) VALUES (?, ?, ?, ?, ?, ?, ?, ?, ?, ?)\"\n",
    "        params = (id_repo, nom, etoiles, url, description, created_at, forks, watchers, updated_at, type_of_owner)\n",
    "        \n",
    "        # Exécution de la requête d'insertion\n",
    "        cursor.execute(query, params)\n",
    "        connection.commit()\n",
    "\n",
    "# Fermeture de la connexion à la base de données\n",
    "cursor.close()\n",
    "connection.close()"
   ]
  },
  {
   "cell_type": "code",
   "execution_count": null,
   "id": "20283b21",
   "metadata": {},
   "outputs": [],
   "source": []
  }
 ],
 "metadata": {
  "kernelspec": {
   "display_name": "Python 3 (ipykernel)",
   "language": "python",
   "name": "python3"
  },
  "language_info": {
   "codemirror_mode": {
    "name": "ipython",
    "version": 3
   },
   "file_extension": ".py",
   "mimetype": "text/x-python",
   "name": "python",
   "nbconvert_exporter": "python",
   "pygments_lexer": "ipython3",
   "version": "3.10.9"
  },
  "vp": {
   "vp_config_version": "1.0.0",
   "vp_menu_width": 273,
   "vp_note_display": false,
   "vp_note_width": 0,
   "vp_position": {
    "width": 278
   },
   "vp_section_display": false,
   "vp_signature": "VisualPython"
  }
 },
 "nbformat": 4,
 "nbformat_minor": 5
}
