{
 "cells": [
  {
   "cell_type": "markdown",
   "id": "5f6fcc68",
   "metadata": {},
   "source": [
    "# Fusion de fichiers"
   ]
  },
  {
   "cell_type": "code",
   "execution_count": 39,
   "id": "4e4a8b93",
   "metadata": {},
   "outputs": [
    {
     "data": {
      "text/html": [
       "<div>\n",
       "<style scoped>\n",
       "    .dataframe tbody tr th:only-of-type {\n",
       "        vertical-align: middle;\n",
       "    }\n",
       "\n",
       "    .dataframe tbody tr th {\n",
       "        vertical-align: top;\n",
       "    }\n",
       "\n",
       "    .dataframe thead th {\n",
       "        text-align: right;\n",
       "    }\n",
       "</style>\n",
       "<table border=\"1\" class=\"dataframe\">\n",
       "  <thead>\n",
       "    <tr style=\"text-align: right;\">\n",
       "      <th></th>\n",
       "      <th>name</th>\n",
       "      <th>full_name</th>\n",
       "      <th>url</th>\n",
       "      <th>description</th>\n",
       "      <th>stars</th>\n",
       "      <th>created_at</th>\n",
       "      <th>language</th>\n",
       "      <th>forks</th>\n",
       "      <th>updated_at</th>\n",
       "      <th>topics</th>\n",
       "      <th>license</th>\n",
       "      <th>type_of_owner</th>\n",
       "      <th>contributors</th>\n",
       "    </tr>\n",
       "  </thead>\n",
       "  <tbody>\n",
       "    <tr>\n",
       "      <th>0</th>\n",
       "      <td>HyperDbg</td>\n",
       "      <td>HyperDbg/HyperDbg</td>\n",
       "      <td>https://github.com/HyperDbg/HyperDbg</td>\n",
       "      <td>State-of-the-art native debugging tool</td>\n",
       "      <td>2173</td>\n",
       "      <td>2020-01-01 12:34:32+00:00</td>\n",
       "      <td>C</td>\n",
       "      <td>317</td>\n",
       "      <td>2023-06-23 10:17:49+00:00</td>\n",
       "      <td>['debug', 'debugger', 'ept', 'hook', 'hyperdbg...</td>\n",
       "      <td>{'key': 'gpl-3.0', 'name': 'GNU General Public...</td>\n",
       "      <td>Organization</td>\n",
       "      <td>{'src_repository': 'HyperDbg/HyperDbg', 'contr...</td>\n",
       "    </tr>\n",
       "    <tr>\n",
       "      <th>1</th>\n",
       "      <td>octo4a</td>\n",
       "      <td>feelfreelinux/octo4a</td>\n",
       "      <td>https://github.com/feelfreelinux/octo4a</td>\n",
       "      <td>Use your old Android device as an OctoPrint se...</td>\n",
       "      <td>1265</td>\n",
       "      <td>2020-01-01 17:00:11+00:00</td>\n",
       "      <td>Kotlin</td>\n",
       "      <td>123</td>\n",
       "      <td>2023-06-21 22:24:04+00:00</td>\n",
       "      <td>['3d-printing', 'android', 'octoprint']</td>\n",
       "      <td>{'key': 'agpl-3.0', 'name': 'GNU Affero Genera...</td>\n",
       "      <td>User</td>\n",
       "      <td>{'src_repository': 'feelfreelinux/octo4a', 'co...</td>\n",
       "    </tr>\n",
       "    <tr>\n",
       "      <th>2</th>\n",
       "      <td>VIMKiller</td>\n",
       "      <td>caseykneale/VIMKiller</td>\n",
       "      <td>https://github.com/caseykneale/VIMKiller</td>\n",
       "      <td>Exiting VIM is hard; sometimes we need to take...</td>\n",
       "      <td>1159</td>\n",
       "      <td>2020-01-01 01:31:29+00:00</td>\n",
       "      <td>Julia</td>\n",
       "      <td>13</td>\n",
       "      <td>2023-06-21 16:37:23+00:00</td>\n",
       "      <td>[]</td>\n",
       "      <td>{'key': 'mit', 'name': 'MIT License', 'spdx_id...</td>\n",
       "      <td>User</td>\n",
       "      <td>{'src_repository': 'caseykneale/VIMKiller', 'c...</td>\n",
       "    </tr>\n",
       "    <tr>\n",
       "      <th>3</th>\n",
       "      <td>OpenSeeFace</td>\n",
       "      <td>emilianavt/OpenSeeFace</td>\n",
       "      <td>https://github.com/emilianavt/OpenSeeFace</td>\n",
       "      <td>Robust realtime face and facial landmark track...</td>\n",
       "      <td>1105</td>\n",
       "      <td>2020-01-01 12:49:35+00:00</td>\n",
       "      <td>Python</td>\n",
       "      <td>134</td>\n",
       "      <td>2023-06-23 11:37:45+00:00</td>\n",
       "      <td>['cpu', 'csharp', 'depth-estimation', 'detecti...</td>\n",
       "      <td>{'key': 'bsd-2-clause', 'name': 'BSD 2-Clause ...</td>\n",
       "      <td>User</td>\n",
       "      <td>{'src_repository': 'emilianavt/OpenSeeFace', '...</td>\n",
       "    </tr>\n",
       "    <tr>\n",
       "      <th>4</th>\n",
       "      <td>react-typescript-web-extension-starter</td>\n",
       "      <td>aeksco/react-typescript-web-extension-starter</td>\n",
       "      <td>https://github.com/aeksco/react-typescript-web...</td>\n",
       "      <td>:desktop_computer: Web Extension starter kit b...</td>\n",
       "      <td>805</td>\n",
       "      <td>2020-01-01 01:14:35+00:00</td>\n",
       "      <td>JavaScript</td>\n",
       "      <td>73</td>\n",
       "      <td>2023-06-18 12:59:14+00:00</td>\n",
       "      <td>['brave', 'chrome-extension', 'eslint', 'exten...</td>\n",
       "      <td>{'key': 'mit', 'name': 'MIT License', 'spdx_id...</td>\n",
       "      <td>User</td>\n",
       "      <td>{'src_repository': 'aeksco/react-typescript-we...</td>\n",
       "    </tr>\n",
       "  </tbody>\n",
       "</table>\n",
       "</div>"
      ],
      "text/plain": [
       "                                     name  \\\n",
       "0                                HyperDbg   \n",
       "1                                  octo4a   \n",
       "2                               VIMKiller   \n",
       "3                             OpenSeeFace   \n",
       "4  react-typescript-web-extension-starter   \n",
       "\n",
       "                                       full_name  \\\n",
       "0                              HyperDbg/HyperDbg   \n",
       "1                           feelfreelinux/octo4a   \n",
       "2                          caseykneale/VIMKiller   \n",
       "3                         emilianavt/OpenSeeFace   \n",
       "4  aeksco/react-typescript-web-extension-starter   \n",
       "\n",
       "                                                 url  \\\n",
       "0               https://github.com/HyperDbg/HyperDbg   \n",
       "1            https://github.com/feelfreelinux/octo4a   \n",
       "2           https://github.com/caseykneale/VIMKiller   \n",
       "3          https://github.com/emilianavt/OpenSeeFace   \n",
       "4  https://github.com/aeksco/react-typescript-web...   \n",
       "\n",
       "                                         description  stars  \\\n",
       "0             State-of-the-art native debugging tool   2173   \n",
       "1  Use your old Android device as an OctoPrint se...   1265   \n",
       "2  Exiting VIM is hard; sometimes we need to take...   1159   \n",
       "3  Robust realtime face and facial landmark track...   1105   \n",
       "4  :desktop_computer: Web Extension starter kit b...    805   \n",
       "\n",
       "                  created_at    language  forks                 updated_at  \\\n",
       "0  2020-01-01 12:34:32+00:00           C    317  2023-06-23 10:17:49+00:00   \n",
       "1  2020-01-01 17:00:11+00:00      Kotlin    123  2023-06-21 22:24:04+00:00   \n",
       "2  2020-01-01 01:31:29+00:00       Julia     13  2023-06-21 16:37:23+00:00   \n",
       "3  2020-01-01 12:49:35+00:00      Python    134  2023-06-23 11:37:45+00:00   \n",
       "4  2020-01-01 01:14:35+00:00  JavaScript     73  2023-06-18 12:59:14+00:00   \n",
       "\n",
       "                                              topics  \\\n",
       "0  ['debug', 'debugger', 'ept', 'hook', 'hyperdbg...   \n",
       "1            ['3d-printing', 'android', 'octoprint']   \n",
       "2                                                 []   \n",
       "3  ['cpu', 'csharp', 'depth-estimation', 'detecti...   \n",
       "4  ['brave', 'chrome-extension', 'eslint', 'exten...   \n",
       "\n",
       "                                             license type_of_owner  \\\n",
       "0  {'key': 'gpl-3.0', 'name': 'GNU General Public...  Organization   \n",
       "1  {'key': 'agpl-3.0', 'name': 'GNU Affero Genera...          User   \n",
       "2  {'key': 'mit', 'name': 'MIT License', 'spdx_id...          User   \n",
       "3  {'key': 'bsd-2-clause', 'name': 'BSD 2-Clause ...          User   \n",
       "4  {'key': 'mit', 'name': 'MIT License', 'spdx_id...          User   \n",
       "\n",
       "                                        contributors  \n",
       "0  {'src_repository': 'HyperDbg/HyperDbg', 'contr...  \n",
       "1  {'src_repository': 'feelfreelinux/octo4a', 'co...  \n",
       "2  {'src_repository': 'caseykneale/VIMKiller', 'c...  \n",
       "3  {'src_repository': 'emilianavt/OpenSeeFace', '...  \n",
       "4  {'src_repository': 'aeksco/react-typescript-we...  "
      ]
     },
     "execution_count": 39,
     "metadata": {},
     "output_type": "execute_result"
    }
   ],
   "source": [
    "import pandas as pd\n",
    "\n",
    "data_without_contrib = pd.read_csv(\"data_final.csv\")\n",
    "data_contrib = pd.read_csv(\"contributeurs.csv\", index_col=0)\n",
    "data = pd.merge(data_without_contrib, data_contrib, left_index=True, right_index=True)\n",
    "data.to_csv(\"data.csv\")\n",
    "data.head()"
   ]
  },
  {
   "cell_type": "code",
   "execution_count": 41,
   "id": "ebe22cc5",
   "metadata": {},
   "outputs": [],
   "source": [
    "import pandas as pd\n",
    "\n",
    "# Assuming data is your DataFrame\n",
    "data['created_at']=pd.to_datetime(data['created_at']).dt.strftime('%Y-%m-%d')\n",
    "data[\"updated_at\"] = pd.to_datetime(data[\"updated_at\"]).dt.strftime('%Y-%m-%d')"
   ]
  },
  {
   "cell_type": "markdown",
   "id": "78d4405a",
   "metadata": {},
   "source": [
    "# Modèle Conceptuel de Données (MCD)"
   ]
  },
  {
   "cell_type": "markdown",
   "id": "8fb91f70",
   "metadata": {},
   "source": [
    "Cette étape va consister à définir les entités importantes dans le cadre de notre projet et les associations inhérentes. Les entités que nous avons trouvées sont les suivantes:\n",
    "\n",
    "Projet (Project)\n",
    "\n",
    "- Attributs :\n",
    "- project_id (identifiant unique)\n",
    "- name (nom du projet)\n",
    "- full_name (nom complet du projet)\n",
    "- url (URL du projet)\n",
    "- description (description du projet)\n",
    "- stars (nombre d'étoiles du projet)\n",
    "- created_at (date de création du projet)\n",
    "- forks (nombre de forks du projet)\n",
    "- updated_at (date de dernière mise à jour du projet)\n",
    "- type_of_owner (type de propriétaire du projet)"
   ]
  },
  {
   "cell_type": "markdown",
   "id": "1a2156c7",
   "metadata": {},
   "source": [
    "Langage (Language)\n",
    "- Attributs\n",
    "-  language_id (identifiant unique)\n",
    "-  language_name (nom du langage)."
   ]
  },
  {
   "cell_type": "markdown",
   "id": "41748c43",
   "metadata": {},
   "source": [
    "Contributeur (Contributor)\n",
    "- Attributs :\n",
    "- contributor_id (identifiant unique)\n",
    "- name (nom du contributeur)"
   ]
  },
  {
   "cell_type": "markdown",
   "id": "c804d388",
   "metadata": {},
   "source": [
    "Licence (License)\n",
    "- Attributs :\n",
    "-   license_id (identifiant unique)\n",
    "-   license_name (nom de la licence)"
   ]
  },
  {
   "cell_type": "markdown",
   "id": "d3aef1a5",
   "metadata": {},
   "source": [
    "Sujet (Topic)\n",
    "- Attributs :\n",
    "-   topic_id (identifiant unique)\n",
    "-   topic_name (nom du sujet ou mot-clé)"
   ]
  },
  {
   "cell_type": "markdown",
   "id": "582e0a13",
   "metadata": {},
   "source": [
    "# Modèle Logique des Données (MLD)"
   ]
  },
  {
   "cell_type": "markdown",
   "id": "79b2c169",
   "metadata": {},
   "source": [
    "Cette étape va consiter à définir le type de relation entre les différents concepts."
   ]
  },
  {
   "cell_type": "markdown",
   "id": "cbe11711",
   "metadata": {},
   "source": [
    "Relations :\n",
    "\n",
    "- Projet (Project) a plusieurs Contributors (Contributeurs) [Relation \"plusieurs à plusieurs\" via la table Participation]\n",
    "- Projet (Project) est lié à une seule Licence (License) [Relation \"1 à 1\"]\n",
    "- Projet (Project) peut être associé à plusieurs Sujets (Topics) [Relation \"plusieurs à plusieurs\" via la table Projet_Sujet]\n",
    "- Projet (Project) est lié à un seul Langage (Language) [Relation \"plusieurs à un\" via la clé étrangère language_id]\n",
    "- Contributor (Contributeur) participe à plusieurs Projects (Projets) [Relation \"plusieurs à plusieurs\" via la table Participation]\n",
    "- License (Licence) est associée à plusieurs Projects (Projets) [Relation \"1 à plusieurs\"]"
   ]
  },
  {
   "cell_type": "markdown",
   "id": "b2948953",
   "metadata": {},
   "source": [
    "Sur la base de ces relations, nous établir le Modèle Logique de Données à travers un Diagramme d'entité relation. De nouvelles entités voient le jour pour implémenter les relations \"plusieurs-à-plusieurs\". Ces nouvelles entités sont les suivantes:"
   ]
  },
  {
   "cell_type": "markdown",
   "id": "bbb2bf84",
   "metadata": {},
   "source": [
    "Participation (Participation) :\n",
    "\n",
    "- Attributs :\n",
    "-  project_id (clé étrangère vers l'entité Projet)\n",
    "-  contributor_id (clé étrangère vers l'entité Contributor)"
   ]
  },
  {
   "cell_type": "markdown",
   "id": "b7eda50b",
   "metadata": {},
   "source": [
    "Projet_Sujet (Project_Topic) :\n",
    "- Attributs :\n",
    "-  project_id (clé étrangère vers l'entité Projet)\n",
    "-  topic_id (clé étrangère vers l'entité Sujet)"
   ]
  },
  {
   "cell_type": "markdown",
   "id": "53a9ca87",
   "metadata": {},
   "source": [
    "Avec le,SGBDR PostgreSQL, nous avons générer l'ERD (le diagramme d'entité relation)"
   ]
  },
  {
   "attachments": {
    "GitHub_ERD-5.png": {
     "image/png": "[encoded data removed]"
    }
   },
   "cell_type": "markdown",
   "id": "0ed2bc99",
   "metadata": {},
   "source": [
    "![GitHub_ERD-5.png](attachment:GitHub_ERD-5.png)"
   ]
  },
  {
   "cell_type": "markdown",
   "id": "3c9fe3aa",
   "metadata": {},
   "source": [
    "# Modèle Physique de Données (MPD)"
   ]
  },
  {
   "cell_type": "markdown",
   "id": "aa5db000",
   "metadata": {},
   "source": [
    "Cette étape va consister à faire des scripts créer et gérer la base de données"
   ]
  },
  {
   "cell_type": "code",
   "execution_count": 33,
   "id": "1be1f558",
   "metadata": {},
   "outputs": [],
   "source": [
    "import pyodbc\n",
    "\n",
    "connexion = pyodbc.connect(\n",
    "    Trusted_Connection='Yes',\n",
    "    Driver='{ODBC Driver 17 for SQL Server}',\n",
    "    Server='LAPTOP-L0N961TQ\\SQLEXPRESS',\n",
    "    Database='GitHub_Database'\n",
    ")"
   ]
  },
  {
   "cell_type": "code",
   "execution_count": 29,
   "id": "9617adef",
   "metadata": {},
   "outputs": [],
   "source": [
    "# curseur\n",
    "# cursor = connexion.cursor()"
   ]
  },
  {
   "cell_type": "markdown",
   "id": "9b313438",
   "metadata": {},
   "source": [
    "# Langage de Définition (LDD) (voir le fichier .sql associé)"
   ]
  },
  {
   "cell_type": "markdown",
   "id": "01ad9175",
   "metadata": {},
   "source": [
    "### Création des tables entités"
   ]
  },
  {
   "cell_type": "code",
   "execution_count": null,
   "id": "2a70366e",
   "metadata": {},
   "outputs": [],
   "source": [
    "# # Création de la table Depots\n",
    "# cursor.execute(\"CREATE TABLE Depots ( id_repo INTEGER PRIMARY KEY, nom NVARCHAR(255), etoiles INTEGER, url NVARCHAR(255), description NVARCHAR(MAX), created_at DATE, forks INTEGER, watchers INTEGER, updated_at DATE, type_of_owner NVARCHAR(255) );\")"
   ]
  },
  {
   "cell_type": "code",
   "execution_count": null,
   "id": "b0f94454",
   "metadata": {},
   "outputs": [],
   "source": [
    "# # Création de la table Contributeurs\n",
    "# cursor.execute(\"CREATE TABLE Contributeurs (id_contrib INT PRIMARY KEY,contrib_nom NVARCHAR(255));\")"
   ]
  },
  {
   "cell_type": "code",
   "execution_count": null,
   "id": "fe4acb6b",
   "metadata": {},
   "outputs": [],
   "source": [
    "# # Création de la table Topics\n",
    "# cursor.execute(\"CREATE TABLE Topics (topic_id INT PRIMARY KEY,topic_name NVARCHAR(255));\")"
   ]
  },
  {
   "cell_type": "code",
   "execution_count": null,
   "id": "11f3740a",
   "metadata": {},
   "outputs": [],
   "source": [
    "# # Création de la table Licenses\n",
    "# cursor.execute(\"CREATE TABLE Licenses (license_id INT PRIMARY KEY,license_name NVARCHAR(255));\")"
   ]
  },
  {
   "cell_type": "markdown",
   "id": "1a4f6ced",
   "metadata": {},
   "source": [
    "### Création des tables-relations"
   ]
  },
  {
   "cell_type": "code",
   "execution_count": null,
   "id": "673728ea",
   "metadata": {},
   "outputs": [],
   "source": [
    "# # Création de la table-relation Depot-Licenses\n",
    "# cursor.execute(\"CREATE TABLE DepotsLicenses (repo_id INT,license_id INT,FOREIGN KEY (repo_id) REFERENCES Depots(id_repo),FOREIGN KEY (license_id) REFERENCES Licenses(license_id));\")"
   ]
  },
  {
   "cell_type": "code",
   "execution_count": null,
   "id": "1c027487",
   "metadata": {},
   "outputs": [],
   "source": [
    "# # Création de la table-relation Depot-Contributeurs\n",
    "# cursor.execute(\"CREATE TABLE DepotsContributeurs (repo_id INT,contrib_id INT,FOREIGN KEY (repo_id) REFERENCES Depots(id_repo),FOREIGN KEY (contrib_id) REFERENCES Contributeurs(id_contrib)\n",
    "# );\")"
   ]
  },
  {
   "cell_type": "code",
   "execution_count": null,
   "id": "17ce8cfc",
   "metadata": {},
   "outputs": [],
   "source": [
    "# # Création de la table-relation Depot-Topics\n",
    "# cursor.execute(\"CREATE TABLE DepotsTopics (repo_id INT,topic_id INT,FOREIGN KEY (repo_id) REFERENCES Depots(id_repo),FOREIGN KEY (topic_id) REFERENCES Topics(topic_id));\")"
   ]
  },
  {
   "cell_type": "markdown",
   "id": "9f7c0235",
   "metadata": {},
   "source": [
    "# Langage de Manipultion de Données"
   ]
  },
  {
   "cell_type": "code",
   "execution_count": 21,
   "id": "86c6ca31",
   "metadata": {},
   "outputs": [
    {
     "data": {
      "text/html": [
       "<div>\n",
       "<style scoped>\n",
       "    .dataframe tbody tr th:only-of-type {\n",
       "        vertical-align: middle;\n",
       "    }\n",
       "\n",
       "    .dataframe tbody tr th {\n",
       "        vertical-align: top;\n",
       "    }\n",
       "\n",
       "    .dataframe thead th {\n",
       "        text-align: right;\n",
       "    }\n",
       "</style>\n",
       "<table border=\"1\" class=\"dataframe\">\n",
       "  <thead>\n",
       "    <tr style=\"text-align: right;\">\n",
       "      <th></th>\n",
       "      <th>name</th>\n",
       "      <th>full_name</th>\n",
       "      <th>url</th>\n",
       "      <th>description</th>\n",
       "      <th>stars</th>\n",
       "      <th>created_at</th>\n",
       "      <th>language</th>\n",
       "      <th>forks</th>\n",
       "      <th>updated_at</th>\n",
       "      <th>topics</th>\n",
       "      <th>license</th>\n",
       "      <th>type_of_owner</th>\n",
       "      <th>contributors</th>\n",
       "    </tr>\n",
       "  </thead>\n",
       "  <tbody>\n",
       "    <tr>\n",
       "      <th>0</th>\n",
       "      <td>HyperDbg</td>\n",
       "      <td>HyperDbg/HyperDbg</td>\n",
       "      <td>https://github.com/HyperDbg/HyperDbg</td>\n",
       "      <td>State-of-the-art native debugging tool</td>\n",
       "      <td>2173</td>\n",
       "      <td>2020-01-01 12:34:32+00:00</td>\n",
       "      <td>C</td>\n",
       "      <td>317</td>\n",
       "      <td>2023-06-23 10:17:49+00:00</td>\n",
       "      <td>['debug', 'debugger', 'ept', 'hook', 'hyperdbg...</td>\n",
       "      <td>{'key': 'gpl-3.0', 'name': 'GNU General Public...</td>\n",
       "      <td>Organization</td>\n",
       "      <td>{'src_repository': 'HyperDbg/HyperDbg', 'contr...</td>\n",
       "    </tr>\n",
       "    <tr>\n",
       "      <th>1</th>\n",
       "      <td>octo4a</td>\n",
       "      <td>feelfreelinux/octo4a</td>\n",
       "      <td>https://github.com/feelfreelinux/octo4a</td>\n",
       "      <td>Use your old Android device as an OctoPrint se...</td>\n",
       "      <td>1265</td>\n",
       "      <td>2020-01-01 17:00:11+00:00</td>\n",
       "      <td>Kotlin</td>\n",
       "      <td>123</td>\n",
       "      <td>2023-06-21 22:24:04+00:00</td>\n",
       "      <td>['3d-printing', 'android', 'octoprint']</td>\n",
       "      <td>{'key': 'agpl-3.0', 'name': 'GNU Affero Genera...</td>\n",
       "      <td>User</td>\n",
       "      <td>{'src_repository': 'feelfreelinux/octo4a', 'co...</td>\n",
       "    </tr>\n",
       "  </tbody>\n",
       "</table>\n",
       "</div>"
      ],
      "text/plain": [
       "       name             full_name                                      url  \\\n",
       "0  HyperDbg     HyperDbg/HyperDbg     https://github.com/HyperDbg/HyperDbg   \n",
       "1    octo4a  feelfreelinux/octo4a  https://github.com/feelfreelinux/octo4a   \n",
       "\n",
       "                                         description  stars  \\\n",
       "0             State-of-the-art native debugging tool   2173   \n",
       "1  Use your old Android device as an OctoPrint se...   1265   \n",
       "\n",
       "                  created_at language  forks                 updated_at  \\\n",
       "0  2020-01-01 12:34:32+00:00        C    317  2023-06-23 10:17:49+00:00   \n",
       "1  2020-01-01 17:00:11+00:00   Kotlin    123  2023-06-21 22:24:04+00:00   \n",
       "\n",
       "                                              topics  \\\n",
       "0  ['debug', 'debugger', 'ept', 'hook', 'hyperdbg...   \n",
       "1            ['3d-printing', 'android', 'octoprint']   \n",
       "\n",
       "                                             license type_of_owner  \\\n",
       "0  {'key': 'gpl-3.0', 'name': 'GNU General Public...  Organization   \n",
       "1  {'key': 'agpl-3.0', 'name': 'GNU Affero Genera...          User   \n",
       "\n",
       "                                        contributors  \n",
       "0  {'src_repository': 'HyperDbg/HyperDbg', 'contr...  \n",
       "1  {'src_repository': 'feelfreelinux/octo4a', 'co...  "
      ]
     },
     "execution_count": 21,
     "metadata": {},
     "output_type": "execute_result"
    }
   ],
   "source": [
    "data.head(2)"
   ]
  },
  {
   "cell_type": "code",
   "execution_count": 51,
   "id": "c7f744e0",
   "metadata": {},
   "outputs": [
    {
     "ename": "IntegrityError",
     "evalue": "('23000', \"[23000] [Microsoft][ODBC Driver 17 for SQL Server][SQL Server]Impossible d'insérer la valeur NULL dans la colonne 'license_id', table 'GitHub_Database.dbo.Licence'. Cette colonne n'accepte pas les valeurs NULL. Échec de INSERT. (515) (SQLExecDirectW); [23000] [Microsoft][ODBC Driver 17 for SQL Server][SQL Server]L'instruction a été arrêtée. (3621)\")",
     "output_type": "error",
     "traceback": [
      "\u001b[1;31m---------------------------------------------------------------------------\u001b[0m",
      "\u001b[1;31mIntegrityError\u001b[0m                            Traceback (most recent call last)",
      "Cell \u001b[1;32mIn[51], line 41\u001b[0m\n\u001b[0;32m     39\u001b[0m query_license \u001b[38;5;241m=\u001b[39m \u001b[38;5;124m\"\u001b[39m\u001b[38;5;124mINSERT INTO Licence (license_name) VALUES (?)\u001b[39m\u001b[38;5;124m\"\u001b[39m\n\u001b[0;32m     40\u001b[0m params_license \u001b[38;5;241m=\u001b[39m (license_name,)\n\u001b[1;32m---> 41\u001b[0m \u001b[43mcursor\u001b[49m\u001b[38;5;241;43m.\u001b[39;49m\u001b[43mexecute\u001b[49m\u001b[43m(\u001b[49m\u001b[43mquery_license\u001b[49m\u001b[43m,\u001b[49m\u001b[43m \u001b[49m\u001b[43mparams_license\u001b[49m\u001b[43m)\u001b[49m\n\u001b[0;32m     43\u001b[0m \u001b[38;5;66;03m# Requête d'insertion des données dans la table Langage\u001b[39;00m\n\u001b[0;32m     44\u001b[0m query_language \u001b[38;5;241m=\u001b[39m \u001b[38;5;124m\"\u001b[39m\u001b[38;5;124mINSERT INTO Langage (language_name) VALUES (?)\u001b[39m\u001b[38;5;124m\"\u001b[39m\n",
      "\u001b[1;31mIntegrityError\u001b[0m: ('23000', \"[23000] [Microsoft][ODBC Driver 17 for SQL Server][SQL Server]Impossible d'insérer la valeur NULL dans la colonne 'license_id', table 'GitHub_Database.dbo.Licence'. Cette colonne n'accepte pas les valeurs NULL. Échec de INSERT. (515) (SQLExecDirectW); [23000] [Microsoft][ODBC Driver 17 for SQL Server][SQL Server]L'instruction a été arrêtée. (3621)\")"
     ]
    }
   ],
   "source": [
    "import csv\n",
    "import pyodbc\n",
    "from datetime import datetime\n",
    "import pandas as pd\n",
    "\n",
    "# Établir la connexion à la base de données\n",
    "connexion = pyodbc.connect(Trusted_Connection='Yes',\n",
    "                            Driver='{ODBC Driver 17 for SQL Server}',\n",
    "                            Server='LAPTOP-L0N961TQ\\SQLEXPRESS',\n",
    "                            Database='GitHub_Database')\n",
    "\n",
    "cursor = connexion.cursor()\n",
    "\n",
    "# Chemin vers le fichier de données\n",
    "data_file_path = \"data.csv\"\n",
    "\n",
    "# Lecture du fichier de données avec pandas\n",
    "data_df = pd.read_csv(data_file_path, encoding='utf-8')\n",
    "\n",
    "# Parcourir les lignes du fichier\n",
    "for index, row in data_df.iterrows():\n",
    "    # Récupérer les valeurs des colonnes\n",
    "    project_id = int(row[0])\n",
    "    nom = row['name']\n",
    "    full_name = row['full_name']\n",
    "    url_link = row['url']\n",
    "    descriptif = row['description']\n",
    "    stars = int(row['stars'])\n",
    "    created_at = datetime.strptime(row['created_at'], \"%Y-%m-%d %H:%M:%S+00:00\").strftime(\"%Y-%m-%d %H:%M:%S\")\n",
    "    language_name = row['language']\n",
    "    forks = int(row['forks'])\n",
    "    updated_at = datetime.strptime(row['updated_at'], \"%Y-%m-%d %H:%M:%S+00:00\").strftime(\"%Y-%m-%d %H:%M:%S\")\n",
    "    topics = eval(row['topics'])  # Convertir la chaîne JSON en liste Python\n",
    "    license_name = eval(row['license'])[\"name\"]\n",
    "    type_of_owner = row['type_of_owner']\n",
    "    contributor_name = eval(row['contributors'])[\"contributor\"]\n",
    "\n",
    "    # Requête d'insertion des données dans la table Licence\n",
    "    query_license = \"INSERT INTO Licence (license_name) VALUES (?)\"\n",
    "    params_license = (license_name,)\n",
    "    cursor.execute(query_license, params_license)\n",
    "\n",
    "    # Requête d'insertion des données dans la table Langage\n",
    "    query_language = \"INSERT INTO Langage (language_name) VALUES (?)\"\n",
    "    params_language = (language_name,)\n",
    "    cursor.execute(query_language, params_language)\n",
    "\n",
    "    # Requête d'insertion des données dans la table Contributeur\n",
    "    query_contributor = \"INSERT INTO Contributeur (contributor_name) VALUES (?)\"\n",
    "    params_contributor = (contributor_name,)\n",
    "    cursor.execute(query_contributor, params_contributor)\n",
    "\n",
    "    # Requête d'insertion des données dans la table Projet\n",
    "    query_projet = \"INSERT INTO Projet (project_id, nom, full_name, url_link, descriptif, stars, created_at, language_id, forks, updated_at, type_of_owner, license_id) VALUES (?, ?, ?, ?, ?, ?, ?, ?, ?, ?, ?, ?)\"\n",
    "    params_projet = (project_id, nom, full_name, url_link, descriptif, stars, created_at, project_id, forks, updated_at, type_of_owner, project_id)\n",
    "    cursor.execute(query_projet, params_projet)\n",
    "\n",
    "    # Requête d'insertion des données dans la table Participation\n",
    "    query_participation = \"INSERT INTO Participation (project_id, contributor_id) VALUES (?, ?)\"\n",
    "    params_participation = (project_id, project_id)\n",
    "    cursor.execute(query_participation, params_participation)\n",
    "\n",
    "    # Insérer les données dans la table Projet_Sujet (s'il y a des sujets associés au projet)\n",
    "    if topics:\n",
    "        for topic in topics:\n",
    "            # Requête d'insertion des données dans la table Sujet\n",
    "            query_sujet = \"INSERT INTO Sujet (topic_name) VALUES (?)\"\n",
    "            params_sujet = (topic,)\n",
    "            cursor.execute(query_sujet, params_sujet)\n",
    "\n",
    "            # Requête d'insertion des données dans la table Projet_Sujet\n",
    "            query_projet_sujet = \"INSERT INTO Projet_Sujet (project_id, topic_id) VALUES (?, ?)\"\n",
    "            params_projet_sujet = (project_id, project_id)\n",
    "            cursor.execute(query_projet_sujet, params_projet_sujet)\n",
    "\n",
    "# Valider les changements dans la base de données\n",
    "connexion.commit()\n",
    "\n",
    "# Fermeture du curseur et de la connexion à la base de données\n",
    "cursor.close()\n",
    "connexion.close()\n"
   ]
  },
  {
   "cell_type": "code",
   "execution_count": 53,
   "id": "711436df",
   "metadata": {},
   "outputs": [
    {
     "data": {
      "text/plain": [
       "0"
      ]
     },
     "execution_count": 53,
     "metadata": {},
     "output_type": "execute_result"
    }
   ],
   "source": [
    "data[\"license\"].isna().sum()"
   ]
  },
  {
   "cell_type": "code",
   "execution_count": null,
   "id": "19c9b239",
   "metadata": {},
   "outputs": [],
   "source": []
  }
 ],
 "metadata": {
  "kernelspec": {
   "display_name": "Python 3 (ipykernel)",
   "language": "python",
   "name": "python3"
  },
  "language_info": {
   "codemirror_mode": {
    "name": "ipython",
    "version": 3
   },
   "file_extension": ".py",
   "mimetype": "text/x-python",
   "name": "python",
   "nbconvert_exporter": "python",
   "pygments_lexer": "ipython3",
   "version": "3.10.9"
  },
  "vp": {
   "vp_config_version": "1.0.0",
   "vp_menu_width": 273,
   "vp_note_display": false,
   "vp_note_width": 0,
   "vp_position": {
    "width": 278
   },
   "vp_section_display": false,
   "vp_signature": "VisualPython"
  }
 },
 "nbformat": 4,
 "nbformat_minor": 5
}
