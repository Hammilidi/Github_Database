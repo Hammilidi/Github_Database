{
 "cells": [
  {
   "cell_type": "markdown",
   "id": "a0204b14",
   "metadata": {},
   "source": [
    "# Modèle Conceptuel de Données"
   ]
  },
  {
   "cell_type": "markdown",
   "id": "a8451232",
   "metadata": {},
   "source": [
    "Trouver les concepts associés et les associations inhérentes. Les concepts que nous avons trouvés sont:\n",
    "- Dépot\n",
    "- Langages\n",
    "- Contributeurs\n",
    "- Sujets"
   ]
  },
  {
   "cell_type": "markdown",
   "id": "f3c4b515",
   "metadata": {},
   "source": [
    "Depots\n",
    "- ID (clé primaire)\n",
    "- Nom\n",
    "- Etoiles\n",
    "- PullRequests\n",
    "- Commentaires\n",
    "- NombreContributeurs\n",
    "- Forks\n",
    "- Tags\n",
    "\n",
    "Contributeurs\n",
    "- ID (clé primaire)\n",
    "- Nom\n",
    "\n",
    "DepotsContributeurs\n",
    "- DepotID (clé étrangère référençant la table Depots)\n",
    "- ContributeurID (clé étrangère référençant la table Contributeurs)\n",
    "- Commits\n",
    "- PourcentageContributions\n"
   ]
  },
  {
   "cell_type": "markdown",
   "id": "b1685d14",
   "metadata": {},
   "source": [
    "Langages\n",
    "- ID (clé primaire)\n",
    "- Nom\n",
    "\n",
    "DepotsLangages\n",
    "- DepotID (clé étrangère référençant la table Depots)\n",
    "- LangageID (clé étrangère référençant la table Langages)\n",
    "\n",
    "Sujets\n",
    "- ID (clé primaire)\n",
    "- Nom\n",
    "\n",
    "DepotsSujets\n",
    "- DepotID (clé étrangère référençant la table Depots)\n",
    "- SujetID (clé étrangère référençant la table Sujets)\n"
   ]
  },
  {
   "cell_type": "code",
   "execution_count": null,
   "id": "b155a999",
   "metadata": {},
   "outputs": [],
   "source": []
  }
 ],
 "metadata": {
  "kernelspec": {
   "display_name": "Python 3 (ipykernel)",
   "language": "python",
   "name": "python3"
  },
  "language_info": {
   "codemirror_mode": {
    "name": "ipython",
    "version": 3
   },
   "file_extension": ".py",
   "mimetype": "text/x-python",
   "name": "python",
   "nbconvert_exporter": "python",
   "pygments_lexer": "ipython3",
   "version": "3.10.9"
  },
  "vp": {
   "vp_config_version": "1.0.0",
   "vp_menu_width": 273,
   "vp_note_display": false,
   "vp_note_width": 0,
   "vp_position": {
    "width": 278
   },
   "vp_section_display": false,
   "vp_signature": "VisualPython"
  }
 },
 "nbformat": 4,
 "nbformat_minor": 5
}
