{
 "cells": [
  {
   "cell_type": "code",
   "execution_count": 1,
   "id": "622dc754",
   "metadata": {},
   "outputs": [],
   "source": [
    "import pandas as pd\n",
    "import pyodbc"
   ]
  },
  {
   "cell_type": "code",
   "execution_count": 2,
   "id": "2cf1a975",
   "metadata": {},
   "outputs": [],
   "source": [
    "# Lecture du fichier CSV\n",
    "data = pd.read_csv('data_data.csv')"
   ]
  },
  {
   "cell_type": "code",
   "execution_count": 19,
   "id": "a7b3d45c",
   "metadata": {},
   "outputs": [],
   "source": [
    "connexion = pyodbc.connect(\n",
    "    Trusted_Connection='Yes',\n",
    "    Driver='{ODBC Driver 17 for SQL Server}',\n",
    "    Server='LAPTOP-L0N961TQ\\SQLEXPRESS',\n",
    "    Database='GitHub_Store'\n",
    ")\n",
    "cursor = connexion.cursor()\n"
   ]
  },
  {
   "cell_type": "markdown",
   "id": "636facb5",
   "metadata": {},
   "source": [
    "## Create the Contributor table"
   ]
  },
  {
   "cell_type": "code",
   "execution_count": 20,
   "id": "0ca94761",
   "metadata": {},
   "outputs": [
    {
     "name": "stdout",
     "output_type": "stream",
     "text": [
      "The Contributor table has been created successfully.\n"
     ]
    }
   ],
   "source": [
    "# Create the Contributor table\n",
    "cursor.execute('''\n",
    "    CREATE TABLE Contributor (\n",
    "        contributor_id INT PRIMARY KEY IDENTITY(1,1),\n",
    "        contributor_name NVARCHAR(50)\n",
    "    )\n",
    "''')\n",
    "connexion.commit()\n",
    "print(\"The Contributor table has been created successfully.\")"
   ]
  },
  {
   "cell_type": "markdown",
   "id": "1e058d8b",
   "metadata": {},
   "source": [
    "## Create the License table"
   ]
  },
  {
   "cell_type": "code",
   "execution_count": 21,
   "id": "389f29c0",
   "metadata": {},
   "outputs": [
    {
     "name": "stdout",
     "output_type": "stream",
     "text": [
      "The License table has been created successfully.\n"
     ]
    }
   ],
   "source": [
    "# Create the License table\n",
    "cursor.execute('''\n",
    "    CREATE TABLE License (\n",
    "        license_id INT PRIMARY KEY IDENTITY(1,1),\n",
    "        license_name NVARCHAR(255)\n",
    "    )\n",
    "''')\n",
    "connexion.commit()\n",
    "print(\"The License table has been created successfully.\")"
   ]
  },
  {
   "cell_type": "markdown",
   "id": "3e69ac60",
   "metadata": {},
   "source": [
    "## Create the Language table"
   ]
  },
  {
   "cell_type": "code",
   "execution_count": 22,
   "id": "b17424b8",
   "metadata": {},
   "outputs": [
    {
     "name": "stdout",
     "output_type": "stream",
     "text": [
      "The Language table has been created successfully.\n"
     ]
    }
   ],
   "source": [
    "# Create the Language table\n",
    "cursor.execute('''\n",
    "    CREATE TABLE Language (\n",
    "        language_id INT PRIMARY KEY IDENTITY(1,1),\n",
    "        language_name NVARCHAR(50)\n",
    "    )\n",
    "''')\n",
    "connexion.commit()\n",
    "print(\"The Language table has been created successfully.\")\n"
   ]
  },
  {
   "cell_type": "markdown",
   "id": "271bb512",
   "metadata": {},
   "source": [
    "## Create the Owner table"
   ]
  },
  {
   "cell_type": "code",
   "execution_count": 23,
   "id": "15cad4a4",
   "metadata": {},
   "outputs": [
    {
     "name": "stdout",
     "output_type": "stream",
     "text": [
      "The Owner table has been created successfully.\n"
     ]
    }
   ],
   "source": [
    "# Create the Owner table\n",
    "cursor.execute('''\n",
    "    CREATE TABLE Owner (\n",
    "        owner_id INT PRIMARY KEY IDENTITY(1,1),\n",
    "        owner_name NVARCHAR(50),\n",
    "        owner_type NVARCHAR(50)\n",
    "    )\n",
    "''')\n",
    "connexion.commit()\n",
    "print(\"The Owner table has been created successfully.\")"
   ]
  },
  {
   "cell_type": "markdown",
   "id": "1d907587",
   "metadata": {},
   "source": [
    "## Create the Repository table"
   ]
  },
  {
   "cell_type": "code",
   "execution_count": 24,
   "id": "019b3d2b",
   "metadata": {},
   "outputs": [
    {
     "name": "stdout",
     "output_type": "stream",
     "text": [
      "The Repository table has been created successfully.\n"
     ]
    }
   ],
   "source": [
    "# Create the Repository table with a defined length for the description column\n",
    "cursor.execute('''\n",
    "    CREATE TABLE Repository (\n",
    "        repository_id INT PRIMARY KEY,\n",
    "        repository_name NVARCHAR(255),\n",
    "        description NVARCHAR(4000),  \n",
    "        repository_url NVARCHAR(255),\n",
    "        language_id INT,\n",
    "        license_id INT,\n",
    "        owner_id INT,\n",
    "        stars_count INT,\n",
    "        forks_count INT,\n",
    "        created_at DATETIME,\n",
    "        updated_at DATETIME,\n",
    "        topics NVARCHAR(MAX),\n",
    "        CONSTRAINT FK_Repository_Language FOREIGN KEY (language_id) REFERENCES Language (language_id),\n",
    "        CONSTRAINT FK_Repository_License FOREIGN KEY (license_id) REFERENCES License (license_id),\n",
    "        CONSTRAINT FK_Repository_Owner FOREIGN KEY (owner_id) REFERENCES Owner (owner_id)\n",
    "    )\n",
    "''')\n",
    "connexion.commit()\n",
    "print(\"The Repository table has been created successfully.\")"
   ]
  },
  {
   "cell_type": "markdown",
   "id": "153d4f2c",
   "metadata": {},
   "source": [
    "## Insert data into the License table"
   ]
  },
  {
   "cell_type": "markdown",
   "id": "9fcb6afb",
   "metadata": {},
   "source": [
    "### Create the Repository_Contributor table"
   ]
  },
  {
   "cell_type": "code",
   "execution_count": 25,
   "id": "d4e86137",
   "metadata": {},
   "outputs": [
    {
     "name": "stdout",
     "output_type": "stream",
     "text": [
      "The Repository_Contributor table has been created successfully.\n"
     ]
    }
   ],
   "source": [
    "# Create the Repository_Contributor table\n",
    "cursor.execute('''\n",
    "    CREATE TABLE Repository_Contributor (\n",
    "        repository_id INT,\n",
    "        contributor_id INT,\n",
    "        contributions INT,\n",
    "        CONSTRAINT FK_Repository_Contributor_Repository FOREIGN KEY (repository_id) REFERENCES Repository (repository_id),\n",
    "        CONSTRAINT FK_Repository_Contributor_Contributor FOREIGN KEY (contributor_id) REFERENCES Contributor (contributor_id)\n",
    "    )\n",
    "''')\n",
    "connexion.commit()\n",
    "print(\"The Repository_Contributor table has been created successfully.\")"
   ]
  },
  {
   "cell_type": "code",
   "execution_count": 26,
   "id": "71c59559",
   "metadata": {},
   "outputs": [
    {
     "name": "stdout",
     "output_type": "stream",
     "text": [
      "Data has been inserted into the License table.\n"
     ]
    }
   ],
   "source": [
    "# Insert data into the License table\n",
    "license_names = data['license'].dropna().unique()\n",
    "for license_name in license_names:\n",
    "    cursor.execute(\"SELECT license_name FROM License WHERE license_name = ?\", license_name)\n",
    "    if not cursor.fetchone():\n",
    "        cursor.execute(\"INSERT INTO License (license_name) VALUES (?)\", license_name)\n",
    "connexion.commit()\n",
    "print(\"Data has been inserted into the License table.\")"
   ]
  },
  {
   "cell_type": "markdown",
   "id": "7d676f09",
   "metadata": {},
   "source": [
    "### Insert data into the Owner table"
   ]
  },
  {
   "cell_type": "code",
   "execution_count": 27,
   "id": "55f55cf7",
   "metadata": {},
   "outputs": [
    {
     "name": "stdout",
     "output_type": "stream",
     "text": [
      "Data has been inserted into the Owner table.\n"
     ]
    }
   ],
   "source": [
    "# Insert data into the Owner table\n",
    "owner_data = data[['owner_name', 'owner_type']].drop_duplicates()\n",
    "\n",
    "for _, row in owner_data.iterrows():\n",
    "    owner_name = row['owner_name']\n",
    "    owner_type = row['owner_type']\n",
    "\n",
    "    cursor.execute(\"SELECT owner_name FROM Owner WHERE owner_name = ?\", owner_name)\n",
    "    if not cursor.fetchone():\n",
    "        cursor.execute(\"INSERT INTO Owner (owner_name, owner_type) VALUES (?, ?)\", owner_name, owner_type)\n",
    "\n",
    "connexion.commit()\n",
    "print(\"Data has been inserted into the Owner table.\")"
   ]
  },
  {
   "cell_type": "markdown",
   "id": "f2603123",
   "metadata": {},
   "source": [
    "### Insert data into the Contributor table"
   ]
  },
  {
   "cell_type": "code",
   "execution_count": 28,
   "id": "27c1dfbb",
   "metadata": {},
   "outputs": [
    {
     "name": "stdout",
     "output_type": "stream",
     "text": [
      "Data has been inserted into the Contributor table.\n"
     ]
    }
   ],
   "source": [
    "# Insert data into the Contributor table\n",
    "contributors = data['contributor_name'].unique()\n",
    "for contributor in contributors:\n",
    "    cursor.execute(\"SELECT contributor_name FROM Contributor WHERE contributor_name = ?\", contributor)\n",
    "    if not cursor.fetchone():\n",
    "        cursor.execute(\"INSERT INTO Contributor (contributor_name) VALUES (?)\", contributor)\n",
    "connexion.commit()\n",
    "print(\"Data has been inserted into the Contributor table.\")"
   ]
  },
  {
   "cell_type": "markdown",
   "id": "18a742f2",
   "metadata": {},
   "source": [
    "### Insert data into the Language table"
   ]
  },
  {
   "cell_type": "code",
   "execution_count": 31,
   "id": "238fed7f",
   "metadata": {},
   "outputs": [
    {
     "ename": "KeyError",
     "evalue": "'language_name'",
     "output_type": "error",
     "traceback": [
      "\u001b[1;31m---------------------------------------------------------------------------\u001b[0m",
      "\u001b[1;31mKeyError\u001b[0m                                  Traceback (most recent call last)",
      "File \u001b[1;32m~\\anaconda3\\lib\\site-packages\\pandas\\core\\indexes\\base.py:3802\u001b[0m, in \u001b[0;36mIndex.get_loc\u001b[1;34m(self, key, method, tolerance)\u001b[0m\n\u001b[0;32m   3801\u001b[0m \u001b[38;5;28;01mtry\u001b[39;00m:\n\u001b[1;32m-> 3802\u001b[0m     \u001b[38;5;28;01mreturn\u001b[39;00m \u001b[38;5;28;43mself\u001b[39;49m\u001b[38;5;241;43m.\u001b[39;49m\u001b[43m_engine\u001b[49m\u001b[38;5;241;43m.\u001b[39;49m\u001b[43mget_loc\u001b[49m\u001b[43m(\u001b[49m\u001b[43mcasted_key\u001b[49m\u001b[43m)\u001b[49m\n\u001b[0;32m   3803\u001b[0m \u001b[38;5;28;01mexcept\u001b[39;00m \u001b[38;5;167;01mKeyError\u001b[39;00m \u001b[38;5;28;01mas\u001b[39;00m err:\n",
      "File \u001b[1;32m~\\anaconda3\\lib\\site-packages\\pandas\\_libs\\index.pyx:138\u001b[0m, in \u001b[0;36mpandas._libs.index.IndexEngine.get_loc\u001b[1;34m()\u001b[0m\n",
      "File \u001b[1;32m~\\anaconda3\\lib\\site-packages\\pandas\\_libs\\index.pyx:165\u001b[0m, in \u001b[0;36mpandas._libs.index.IndexEngine.get_loc\u001b[1;34m()\u001b[0m\n",
      "File \u001b[1;32mpandas\\_libs\\hashtable_class_helper.pxi:5745\u001b[0m, in \u001b[0;36mpandas._libs.hashtable.PyObjectHashTable.get_item\u001b[1;34m()\u001b[0m\n",
      "File \u001b[1;32mpandas\\_libs\\hashtable_class_helper.pxi:5753\u001b[0m, in \u001b[0;36mpandas._libs.hashtable.PyObjectHashTable.get_item\u001b[1;34m()\u001b[0m\n",
      "\u001b[1;31mKeyError\u001b[0m: 'language_name'",
      "\nThe above exception was the direct cause of the following exception:\n",
      "\u001b[1;31mKeyError\u001b[0m                                  Traceback (most recent call last)",
      "Cell \u001b[1;32mIn[31], line 2\u001b[0m\n\u001b[0;32m      1\u001b[0m \u001b[38;5;66;03m# Insert data into the Language table\u001b[39;00m\n\u001b[1;32m----> 2\u001b[0m languages \u001b[38;5;241m=\u001b[39m \u001b[43mdata\u001b[49m\u001b[43m[\u001b[49m\u001b[38;5;124;43m'\u001b[39;49m\u001b[38;5;124;43mlanguage_name\u001b[39;49m\u001b[38;5;124;43m'\u001b[39;49m\u001b[43m]\u001b[49m\u001b[38;5;241m.\u001b[39mdropna()\u001b[38;5;241m.\u001b[39munique()\n\u001b[0;32m      3\u001b[0m \u001b[38;5;28;01mfor\u001b[39;00m language \u001b[38;5;129;01min\u001b[39;00m languages:\n\u001b[0;32m      4\u001b[0m     cursor\u001b[38;5;241m.\u001b[39mexecute(\u001b[38;5;124m\"\u001b[39m\u001b[38;5;124mSELECT Language_name FROM Language WHERE language_name = ?\u001b[39m\u001b[38;5;124m\"\u001b[39m, language)\n",
      "File \u001b[1;32m~\\anaconda3\\lib\\site-packages\\pandas\\core\\frame.py:3807\u001b[0m, in \u001b[0;36mDataFrame.__getitem__\u001b[1;34m(self, key)\u001b[0m\n\u001b[0;32m   3805\u001b[0m \u001b[38;5;28;01mif\u001b[39;00m \u001b[38;5;28mself\u001b[39m\u001b[38;5;241m.\u001b[39mcolumns\u001b[38;5;241m.\u001b[39mnlevels \u001b[38;5;241m>\u001b[39m \u001b[38;5;241m1\u001b[39m:\n\u001b[0;32m   3806\u001b[0m     \u001b[38;5;28;01mreturn\u001b[39;00m \u001b[38;5;28mself\u001b[39m\u001b[38;5;241m.\u001b[39m_getitem_multilevel(key)\n\u001b[1;32m-> 3807\u001b[0m indexer \u001b[38;5;241m=\u001b[39m \u001b[38;5;28;43mself\u001b[39;49m\u001b[38;5;241;43m.\u001b[39;49m\u001b[43mcolumns\u001b[49m\u001b[38;5;241;43m.\u001b[39;49m\u001b[43mget_loc\u001b[49m\u001b[43m(\u001b[49m\u001b[43mkey\u001b[49m\u001b[43m)\u001b[49m\n\u001b[0;32m   3808\u001b[0m \u001b[38;5;28;01mif\u001b[39;00m is_integer(indexer):\n\u001b[0;32m   3809\u001b[0m     indexer \u001b[38;5;241m=\u001b[39m [indexer]\n",
      "File \u001b[1;32m~\\anaconda3\\lib\\site-packages\\pandas\\core\\indexes\\base.py:3804\u001b[0m, in \u001b[0;36mIndex.get_loc\u001b[1;34m(self, key, method, tolerance)\u001b[0m\n\u001b[0;32m   3802\u001b[0m     \u001b[38;5;28;01mreturn\u001b[39;00m \u001b[38;5;28mself\u001b[39m\u001b[38;5;241m.\u001b[39m_engine\u001b[38;5;241m.\u001b[39mget_loc(casted_key)\n\u001b[0;32m   3803\u001b[0m \u001b[38;5;28;01mexcept\u001b[39;00m \u001b[38;5;167;01mKeyError\u001b[39;00m \u001b[38;5;28;01mas\u001b[39;00m err:\n\u001b[1;32m-> 3804\u001b[0m     \u001b[38;5;28;01mraise\u001b[39;00m \u001b[38;5;167;01mKeyError\u001b[39;00m(key) \u001b[38;5;28;01mfrom\u001b[39;00m \u001b[38;5;21;01merr\u001b[39;00m\n\u001b[0;32m   3805\u001b[0m \u001b[38;5;28;01mexcept\u001b[39;00m \u001b[38;5;167;01mTypeError\u001b[39;00m:\n\u001b[0;32m   3806\u001b[0m     \u001b[38;5;66;03m# If we have a listlike key, _check_indexing_error will raise\u001b[39;00m\n\u001b[0;32m   3807\u001b[0m     \u001b[38;5;66;03m#  InvalidIndexError. Otherwise we fall through and re-raise\u001b[39;00m\n\u001b[0;32m   3808\u001b[0m     \u001b[38;5;66;03m#  the TypeError.\u001b[39;00m\n\u001b[0;32m   3809\u001b[0m     \u001b[38;5;28mself\u001b[39m\u001b[38;5;241m.\u001b[39m_check_indexing_error(key)\n",
      "\u001b[1;31mKeyError\u001b[0m: 'language_name'"
     ]
    }
   ],
   "source": [
    "# Insert data into the Language table\n",
    "languages = data['language_name'].dropna().unique()\n",
    "for language in languages:\n",
    "    cursor.execute(\"SELECT Language_name FROM Language WHERE language_name = ?\", language)\n",
    "    if not cursor.fetchone():\n",
    "        cursor.execute(\"INSERT INTO Language (language_name) VALUES (?)\", language)\n",
    "connexion.commit()\n",
    "print(\"Data has been inserted into the Language table.\")"
   ]
  },
  {
   "cell_type": "code",
   "execution_count": null,
   "id": "8ed71032",
   "metadata": {},
   "outputs": [],
   "source": [
    "# Select all data from the License table\n",
    "select_query = \"SELECT * FROM Repository_Contributor\"\n",
    "cursor.execute(select_query)\n",
    "\n",
    "# Fetch all rows from the result set\n",
    "rows = cursor.fetchall()\n",
    "\n",
    "# Iterate over the rows and print the data\n",
    "for row in rows:\n",
    "    print(row)"
   ]
  },
  {
   "cell_type": "markdown",
   "id": "a73d6853",
   "metadata": {},
   "source": [
    "### Insert data to Repository"
   ]
  },
  {
   "cell_type": "code",
   "execution_count": null,
   "id": "ce026be8",
   "metadata": {},
   "outputs": [],
   "source": [
    "import json\n",
    "from datetime import datetime\n",
    "\n",
    "# Helper function to parse topics string to a list\n",
    "def parse_topics(topics_str):\n",
    "    if topics_str == \"[]\":\n",
    "        return [\"NO TOPIC\"]\n",
    "    else:\n",
    "        return [topic.strip() for topic in topics_str.strip(\"[]\").split(\",\")]\n",
    "\n",
    "# Insert data into the Repository table\n",
    "for row in data.itertuples():\n",
    "    # Check if the repository already exists in the table\n",
    "    cursor.execute(\"SELECT COUNT(*) FROM Repository WHERE repository_id = ?\", row[1])  # Use index 1 for repository_id\n",
    "    if cursor.fetchone()[0] == 0:\n",
    "        # Convert datetime strings to datetime objects\n",
    "        created_at = datetime.strptime(row[11], \"%Y-%m-%d %H:%M:%S\")  # Use index 11 for created_at\n",
    "        updated_at = datetime.strptime(row[12], \"%Y-%m-%d %H:%M:%S\")  # Use index 12 for updated_at\n",
    "        \n",
    "        # Parse topics string to a list of topic names\n",
    "        topics = parse_topics(row[6])  # Use index 6 for topics\n",
    "        \n",
    "        # Convert the list of topic names to a JSON string\n",
    "        topics_json = json.dumps(topics)\n",
    "        \n",
    "        cursor.execute('''\n",
    "            INSERT INTO Repository (\n",
    "                repository_id, repository_name, description, repository_url, language_id, license_id, owner_id,\n",
    "                stars_count, forks_count, created_at, updated_at, topics\n",
    "            )\n",
    "            VALUES (?, ?, ?, ?, (SELECT language_id FROM Language WHERE language_name = ?), \n",
    "            (SELECT license_id FROM License WHERE license_name = ?), \n",
    "            (SELECT owner_id FROM Owner WHERE owner_name = ?), ?, ?, ?, ?, ?)\n",
    "        ''', row[1], row[2], row[8], row[3], row[4], row[5], row[14], row[9], row[10], created_at, updated_at, topics_json)\n",
    "connection.commit()\n",
    "print(\"Data has been inserted into the Repository table.\")"
   ]
  },
  {
   "cell_type": "markdown",
   "id": "9504f282",
   "metadata": {},
   "source": [
    "### Insert data into the Repository_Contributor table"
   ]
  },
  {
   "cell_type": "code",
   "execution_count": null,
   "id": "4b368235",
   "metadata": {},
   "outputs": [],
   "source": [
    "# Insert data into the Repository_Contributor table\n",
    "for row in data.itertuples():\n",
    "    repository_id = row.repository_id\n",
    "    contributor_name = row.contributor_name\n",
    "    contributions = row.contributions\n",
    "\n",
    "    # Check if the contributor already exists in the Contributor table\n",
    "    cursor.execute(\"SELECT contributor_id FROM Contributor WHERE contributor_name = ?\", contributor_name)\n",
    "    contributor_result = cursor.fetchone()\n",
    "\n",
    "    # If the contributor exists, use the existing contributor_id\n",
    "    if contributor_result:\n",
    "        contributor_id = contributor_result[0]\n",
    "    else:\n",
    "        # If the contributor doesn't exist, insert them into the Contributor table and get the generated contributor_id\n",
    "        cursor.execute(\"INSERT INTO Contributor (contributor_name) VALUES (?)\", contributor_name)\n",
    "        connection.commit()\n",
    "        contributor_id = cursor.lastrowid\n",
    "\n",
    "    # Insert the data into the Repository_Contributor table using repository_id, contributor_id, and contributions\n",
    "    cursor.execute('''\n",
    "        INSERT INTO Repository_Contributor (repository_id, contributor_id, contributions)\n",
    "        VALUES (?, ?, ?)\n",
    "    ''', repository_id, contributor_id, contributions)\n",
    "\n",
    "connection.commit()\n",
    "print(\"Data has been inserted into the Repository_Contributor table.\")"
   ]
  },
  {
   "cell_type": "markdown",
   "id": "0aa2934d",
   "metadata": {},
   "source": [
    "### Create Indexes for tables"
   ]
  },
  {
   "cell_type": "code",
   "execution_count": null,
   "id": "82b045ef",
   "metadata": {},
   "outputs": [],
   "source": [
    "# Add an index on the contributor_id column\n",
    "cursor.execute('''\n",
    "    CREATE INDEX IX_Contributor_contributor_id\n",
    "    ON Contributor (contributor_id)\n",
    "''')\n",
    "\n",
    "# Add an index on the contributor_name column\n",
    "cursor.execute('''\n",
    "    CREATE INDEX IX_Contributor_contributor_name\n",
    "    ON Contributor (contributor_name)\n",
    "''')\n",
    "\n",
    "\n",
    "# Add an index on the language_id column\n",
    "cursor.execute('''\n",
    "    CREATE INDEX IX_Language_language_id\n",
    "    ON Language (language_id)\n",
    "''')\n",
    "\n",
    "# Add an index on the language_name column\n",
    "cursor.execute('''\n",
    "    CREATE INDEX IX_Language_language_name\n",
    "    ON Language (language_name)\n",
    "''')\n",
    "\n",
    "\n",
    "# Add an index on the license_id column\n",
    "cursor.execute('''\n",
    "    CREATE INDEX IX_License_license_id\n",
    "    ON License (license_id)\n",
    "''')\n",
    "# Add an index on the license_name column\n",
    "cursor.execute('''\n",
    "    CREATE INDEX IX_License_license_name\n",
    "    ON License (license_name)\n",
    "''')\n",
    "\n",
    "\n",
    "\n",
    "# Add an index on the owner_id column\n",
    "cursor.execute('''\n",
    "    CREATE INDEX IX_Owner_owner_id\n",
    "    ON Owner (owner_id)\n",
    "''')\n",
    "\n",
    "# Add an index on the owner_name column\n",
    "cursor.execute('''\n",
    "    CREATE INDEX IX_Owner_owner_name\n",
    "    ON Owner (owner_name)\n",
    "''')\n",
    "\n",
    "\n",
    "# Add an index on the repository_id column\n",
    "cursor.execute('''\n",
    "    CREATE INDEX IX_Repository_repository_id\n",
    "    ON Repository (repository_id)\n",
    "''')\n",
    "# Add an index on the repository_name column\n",
    "cursor.execute('''\n",
    "    CREATE INDEX IX_Repository_repository_name\n",
    "    ON Repository (repository_name)\n",
    "''')\n",
    "\n",
    "\n",
    "# Add an index on the repository_id column\n",
    "cursor.execute('''\n",
    "    CREATE INDEX IX_Repository_Contributor_repository_id\n",
    "    ON Repository_Contributor (repository_id)\n",
    "''')\n",
    "\n",
    "# Add an index on the contributor_id column\n",
    "cursor.execute('''\n",
    "    CREATE INDEX IX_Repository_Contributor_contributor_id\n",
    "    ON Repository_Contributor (contributor_id)\n",
    "''')\n",
    "\n",
    "connection.commit()\n",
    "print(\"Indexes have been created for tables.\")"
   ]
  },
  {
   "cell_type": "code",
   "execution_count": null,
   "id": "6fa072cd",
   "metadata": {},
   "outputs": [],
   "source": [
    "# Close the cursor and connection\n",
    "cursor.close()\n",
    "connection.close()"
   ]
  }
 ],
 "metadata": {
  "kernelspec": {
   "display_name": "Python 3 (ipykernel)",
   "language": "python",
   "name": "python3"
  },
  "language_info": {
   "codemirror_mode": {
    "name": "ipython",
    "version": 3
   },
   "file_extension": ".py",
   "mimetype": "text/x-python",
   "name": "python",
   "nbconvert_exporter": "python",
   "pygments_lexer": "ipython3",
   "version": "3.10.9"
  },
  "vp": {
   "vp_config_version": "1.0.0",
   "vp_menu_width": 273,
   "vp_note_display": false,
   "vp_note_width": 0,
   "vp_position": {
    "width": 278
   },
   "vp_section_display": false,
   "vp_signature": "VisualPython"
  }
 },
 "nbformat": 4,
 "nbformat_minor": 5
}
